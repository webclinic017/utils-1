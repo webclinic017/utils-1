{
 "cells": [
  {
   "cell_type": "code",
   "execution_count": 38,
   "metadata": {},
   "outputs": [],
   "source": [
    "from backtesting import Backtest, Strategy\n",
    "from backtesting.lib import crossover, cross\n",
    "import pandas as pd\n",
    "import pandas_ta as ta\n",
    "from binance.client import Client\n",
    "client = Client()"
   ]
  },
  {
   "cell_type": "code",
   "execution_count": 40,
   "metadata": {},
   "outputs": [],
   "source": [
    "def getdata(symbol,start):\n",
    "    frame = pd.DataFrame(client.get_historical_klines(symbol,'4h',start))\n",
    "    frame = frame.iloc[:,:6]\n",
    "    frame.columns = ['Time','Open','High','Low','Close','Volume']\n",
    "    frame.set_index('Time',inplace=True)\n",
    "    frame.index = pd.to_datetime(frame.index,unit='ms')\n",
    "    frame = frame.astype(float)\n",
    "    return frame"
   ]
  },
  {
   "cell_type": "code",
   "execution_count": 58,
   "metadata": {},
   "outputs": [],
   "source": [
    "df = getdata('ETHUSDT','2021-01-01')\n"
   ]
  },
  {
   "cell_type": "code",
   "execution_count": 109,
   "metadata": {},
   "outputs": [],
   "source": [
    "class SmaCross(Strategy):\n",
    "\n",
    "    n1 = 13\n",
    "    n2 = 30\n",
    "    in_position = False\n",
    "\n",
    "    def init(self):\n",
    "        close = self.data.Close\n",
    "        self.ema = self.I(ta.ema , pd.Series(close), self.n1)\n",
    "        self.sma = self.I(ta.sma, pd.Series(close), self.n2)\n",
    "\n",
    "\n",
    "    def next(self):\n",
    "        \n",
    "        if crossover(self.ema, self.sma):#and self.in_position == False:\n",
    "            price = self.data.Low[-1]\n",
    "            two_lows_atras = self.data.Low[-2]\n",
    "            tpro = crossover(self.sma,self.ema)\n",
    "            self.buy(size=0.05, sl=price - 1) # ,tp=tpro)\n",
    "            self.in_position = True\n",
    "        elif crossover(self.sma,self.ema):# and self.in_position == True:\n",
    "            #one_high = self.data.High[-1]\n",
    "            #two_highs_atras = self.data.High[-2]\n",
    "            #tpro = crossover(self.ema,self.sma)\n",
    "            self.sell(size=0.05)#,sl=(two_highs_atras-one_high)) #,tp=tpro)\n",
    "            self.in_position = False\n",
    "        # elif crossover(self.sma,self.ema) and self.in_position == False:\n",
    "        #     sloss = self.data.High[-2]\n",
    "        #     self.sell(size=0.05,sl=sloss)\n",
    "        #     self.in_position = True\n",
    "        # elif crossover(self.ema, self.sma) and self.in_position == True:\n",
    "        #     sloss = self.data.Low[-2]\n",
    "        #     self.buy(size=0.05,sl=sloss)\n",
    "        #     self.in_position = False\n",
    "\n",
    "\n",
    "            \n",
    "        #elif cross(self.sma, self.ema):\n",
    "        #    self.sell()"
   ]
  },
  {
   "cell_type": "code",
   "execution_count": 110,
   "metadata": {},
   "outputs": [],
   "source": [
    "bt = Backtest(df,SmaCross,cash=100000,margin=1/20,commission=0.002,exclusive_orders=True)\n"
   ]
  },
  {
   "cell_type": "code",
   "execution_count": 111,
   "metadata": {},
   "outputs": [],
   "source": [
    "output = bt.run()"
   ]
  },
  {
   "cell_type": "code",
   "execution_count": 112,
   "metadata": {},
   "outputs": [
    {
     "data": {
      "text/plain": [
       "Start                     2021-01-01 00:00:00\n",
       "End                       2022-12-15 16:00:00\n",
       "Duration                    713 days 16:00:00\n",
       "Exposure Time [%]                   71.935559\n",
       "Equity Final [$]                  38628.96814\n",
       "Equity Peak [$]                  108614.22172\n",
       "Return [%]                         -61.371032\n",
       "Buy & Hold Return [%]               71.054751\n",
       "Return (Ann.) [%]                  -38.506653\n",
       "Volatility (Ann.) [%]               53.496599\n",
       "Sharpe Ratio                              0.0\n",
       "Sortino Ratio                             0.0\n",
       "Calmar Ratio                              0.0\n",
       "Max. Drawdown [%]                   -74.36717\n",
       "Avg. Drawdown [%]                   -74.36717\n",
       "Max. Drawdown Duration      703 days 04:00:00\n",
       "Avg. Drawdown Duration      703 days 04:00:00\n",
       "# Trades                                  166\n",
       "Win Rate [%]                        24.096386\n",
       "Best Trade [%]                      48.548528\n",
       "Worst Trade [%]                    -18.990116\n",
       "Avg. Trade [%]                      -0.594392\n",
       "Max. Trade Duration          17 days 04:00:00\n",
       "Avg. Trade Duration           3 days 01:00:00\n",
       "Profit Factor                        0.911219\n",
       "Expectancy [%]                      -0.253962\n",
       "SQN                                 -1.177252\n",
       "_strategy                            SmaCross\n",
       "_equity_curve                             ...\n",
       "_trades                        Size  Entry...\n",
       "dtype: object"
      ]
     },
     "execution_count": 112,
     "metadata": {},
     "output_type": "execute_result"
    }
   ],
   "source": [
    "#output = pd.DataFrame(output)\n",
    "#output.to_csv('/Users/oscarnicolas/Downloads/a/cross_EMA13_SMA30.csv')\n",
    "output"
   ]
  },
  {
   "cell_type": "code",
   "execution_count": 113,
   "metadata": {},
   "outputs": [
    {
     "data": {
      "text/html": [
       "<div style=\"display: table;\"><div style=\"display: table-row;\"><div style=\"display: table-cell;\"><b title=\"bokeh.models.layouts.Row\">Row</b>(</div><div style=\"display: table-cell;\">id&nbsp;=&nbsp;'14193', <span id=\"14807\" style=\"cursor: pointer;\">&hellip;)</span></div></div><div class=\"14806\" style=\"display: none;\"><div style=\"display: table-cell;\"></div><div style=\"display: table-cell;\">align&nbsp;=&nbsp;'start',</div></div><div class=\"14806\" style=\"display: none;\"><div style=\"display: table-cell;\"></div><div style=\"display: table-cell;\">aspect_ratio&nbsp;=&nbsp;None,</div></div><div class=\"14806\" style=\"display: none;\"><div style=\"display: table-cell;\"></div><div style=\"display: table-cell;\">background&nbsp;=&nbsp;None,</div></div><div class=\"14806\" style=\"display: none;\"><div style=\"display: table-cell;\"></div><div style=\"display: table-cell;\">children&nbsp;=&nbsp;[GridBox(id='14190', ...), ToolbarBox(id='14192', ...)],</div></div><div class=\"14806\" style=\"display: none;\"><div style=\"display: table-cell;\"></div><div style=\"display: table-cell;\">cols&nbsp;=&nbsp;'auto',</div></div><div class=\"14806\" style=\"display: none;\"><div style=\"display: table-cell;\"></div><div style=\"display: table-cell;\">css_classes&nbsp;=&nbsp;[],</div></div><div class=\"14806\" style=\"display: none;\"><div style=\"display: table-cell;\"></div><div style=\"display: table-cell;\">disabled&nbsp;=&nbsp;False,</div></div><div class=\"14806\" style=\"display: none;\"><div style=\"display: table-cell;\"></div><div style=\"display: table-cell;\">height&nbsp;=&nbsp;None,</div></div><div class=\"14806\" style=\"display: none;\"><div style=\"display: table-cell;\"></div><div style=\"display: table-cell;\">height_policy&nbsp;=&nbsp;'auto',</div></div><div class=\"14806\" style=\"display: none;\"><div style=\"display: table-cell;\"></div><div style=\"display: table-cell;\">js_event_callbacks&nbsp;=&nbsp;{},</div></div><div class=\"14806\" style=\"display: none;\"><div style=\"display: table-cell;\"></div><div style=\"display: table-cell;\">js_property_callbacks&nbsp;=&nbsp;{},</div></div><div class=\"14806\" style=\"display: none;\"><div style=\"display: table-cell;\"></div><div style=\"display: table-cell;\">margin&nbsp;=&nbsp;(0, 0, 0, 0),</div></div><div class=\"14806\" style=\"display: none;\"><div style=\"display: table-cell;\"></div><div style=\"display: table-cell;\">max_height&nbsp;=&nbsp;None,</div></div><div class=\"14806\" style=\"display: none;\"><div style=\"display: table-cell;\"></div><div style=\"display: table-cell;\">max_width&nbsp;=&nbsp;None,</div></div><div class=\"14806\" style=\"display: none;\"><div style=\"display: table-cell;\"></div><div style=\"display: table-cell;\">min_height&nbsp;=&nbsp;None,</div></div><div class=\"14806\" style=\"display: none;\"><div style=\"display: table-cell;\"></div><div style=\"display: table-cell;\">min_width&nbsp;=&nbsp;None,</div></div><div class=\"14806\" style=\"display: none;\"><div style=\"display: table-cell;\"></div><div style=\"display: table-cell;\">name&nbsp;=&nbsp;None,</div></div><div class=\"14806\" style=\"display: none;\"><div style=\"display: table-cell;\"></div><div style=\"display: table-cell;\">sizing_mode&nbsp;=&nbsp;'stretch_width',</div></div><div class=\"14806\" style=\"display: none;\"><div style=\"display: table-cell;\"></div><div style=\"display: table-cell;\">spacing&nbsp;=&nbsp;0,</div></div><div class=\"14806\" style=\"display: none;\"><div style=\"display: table-cell;\"></div><div style=\"display: table-cell;\">subscribed_events&nbsp;=&nbsp;[],</div></div><div class=\"14806\" style=\"display: none;\"><div style=\"display: table-cell;\"></div><div style=\"display: table-cell;\">syncable&nbsp;=&nbsp;True,</div></div><div class=\"14806\" style=\"display: none;\"><div style=\"display: table-cell;\"></div><div style=\"display: table-cell;\">tags&nbsp;=&nbsp;[],</div></div><div class=\"14806\" style=\"display: none;\"><div style=\"display: table-cell;\"></div><div style=\"display: table-cell;\">visible&nbsp;=&nbsp;True,</div></div><div class=\"14806\" style=\"display: none;\"><div style=\"display: table-cell;\"></div><div style=\"display: table-cell;\">width&nbsp;=&nbsp;None,</div></div><div class=\"14806\" style=\"display: none;\"><div style=\"display: table-cell;\"></div><div style=\"display: table-cell;\">width_policy&nbsp;=&nbsp;'auto')</div></div></div>\n",
       "<script>\n",
       "(function() {\n",
       "  let expanded = false;\n",
       "  const ellipsis = document.getElementById(\"14807\");\n",
       "  ellipsis.addEventListener(\"click\", function() {\n",
       "    const rows = document.getElementsByClassName(\"14806\");\n",
       "    for (let i = 0; i < rows.length; i++) {\n",
       "      const el = rows[i];\n",
       "      el.style.display = expanded ? \"none\" : \"table-row\";\n",
       "    }\n",
       "    ellipsis.innerHTML = expanded ? \"&hellip;)\" : \"&lsaquo;&lsaquo;&lsaquo;\";\n",
       "    expanded = !expanded;\n",
       "  });\n",
       "})();\n",
       "</script>\n"
      ],
      "text/plain": [
       "Row(id='14193', ...)"
      ]
     },
     "execution_count": 113,
     "metadata": {},
     "output_type": "execute_result"
    }
   ],
   "source": [
    "bt.plot()\n",
    "\n"
   ]
  }
 ],
 "metadata": {
  "kernelspec": {
   "display_name": "Python 3",
   "language": "python",
   "name": "python3"
  },
  "language_info": {
   "codemirror_mode": {
    "name": "ipython",
    "version": 3
   },
   "file_extension": ".py",
   "mimetype": "text/x-python",
   "name": "python",
   "nbconvert_exporter": "python",
   "pygments_lexer": "ipython3",
   "version": "3.11.1 (v3.11.1:a7a450f84a, Dec  6 2022, 15:24:06) [Clang 13.0.0 (clang-1300.0.29.30)]"
  },
  "orig_nbformat": 4,
  "vscode": {
   "interpreter": {
    "hash": "aee8b7b246df8f9039afb4144a1f6fd8d2ca17a180786b69acc140d282b71a49"
   }
  }
 },
 "nbformat": 4,
 "nbformat_minor": 2
}
